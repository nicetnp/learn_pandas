{
 "cells": [
  {
   "cell_type": "code",
   "id": "initial_id",
   "metadata": {
    "collapsed": true,
    "ExecuteTime": {
     "end_time": "2025-06-07T06:20:19.140425Z",
     "start_time": "2025-06-07T06:20:19.129921Z"
    }
   },
   "source": [
    "#Create a data and Set it to DataFrame (pd.DataFrame())\n",
    "import pandas as pd\n",
    "\n",
    "mydataset = {\n",
    "    'id': [1, 2, 3, 4, 5, 6, 7, 8, 9, 10],\n",
    "    'sn': [\"DG0000000001\", \"DG0000000002\", \"DG0000000003\", \"DG0000000004\", \"DG0000000005\", \"DG0000000006\",\"DG0000000007\",\n",
    "           \"DG0000000008\", \"DG0000000009\", \"DG00000000010\"],\n",
    "    'station': [\"vflash1\", \"hipot1\", \"ats1\", \"vibration\", \"heatup\", \"burnin\", \"hipot2\", \"ats2\", \"flash2\", \"ats3\"],\n",
    "    'result': [\"pass\", \"fail\", \"pass\", \"pass,\", \"pass\", \"fail,\", \"fail\", \"fail\", \"pass\", \"fail\"]\n",
    "}\n",
    "df = pd.DataFrame(mydataset)\n",
    "print(df)\n"
   ],
   "outputs": [
    {
     "name": "stdout",
     "output_type": "stream",
     "text": [
      "   id             sn    station result\n",
      "0   1   DG0000000001    vflash1   pass\n",
      "1   2   DG0000000002     hipot1   fail\n",
      "2   3   DG0000000003       ats1   pass\n",
      "3   4   DG0000000004  vibration  pass,\n",
      "4   5   DG0000000005     heatup   pass\n",
      "5   6   DG0000000006     burnin  fail,\n",
      "6   7   DG0000000007     hipot2   fail\n",
      "7   8   DG0000000008       ats2   fail\n",
      "8   9   DG0000000009     flash2   pass\n",
      "9  10  DG00000000010       ats3   fail\n"
     ]
    }
   ],
   "execution_count": 16
  },
  {
   "metadata": {
    "ExecuteTime": {
     "end_time": "2025-06-07T06:20:19.188543Z",
     "start_time": "2025-06-07T06:20:19.181791Z"
    }
   },
   "cell_type": "code",
   "source": [
    "#Show row column\n",
    "print(df.loc[0])"
   ],
   "id": "e3502f743eafc1dd",
   "outputs": [
    {
     "name": "stdout",
     "output_type": "stream",
     "text": [
      "id                    1\n",
      "sn         DG0000000001\n",
      "station         vflash1\n",
      "result             pass\n",
      "Name: 0, dtype: object\n"
     ]
    }
   ],
   "execution_count": 17
  },
  {
   "metadata": {
    "ExecuteTime": {
     "end_time": "2025-06-07T06:20:19.235278Z",
     "start_time": "2025-06-07T06:20:19.225625Z"
    }
   },
   "cell_type": "code",
   "source": [
    "#Rename Index\n",
    "df2 = pd.DataFrame(mydataset, index=[\"no1\",\"no2\",\"no3\",\"no4\",\"no5\",\"no6\",\"no7\",\"no8\",\"no9\",\"no10\"])\n",
    "print(df2)"
   ],
   "id": "d109ee8d8264b5d6",
   "outputs": [
    {
     "name": "stdout",
     "output_type": "stream",
     "text": [
      "      id             sn    station result\n",
      "no1    1   DG0000000001    vflash1   pass\n",
      "no2    2   DG0000000002     hipot1   fail\n",
      "no3    3   DG0000000003       ats1   pass\n",
      "no4    4   DG0000000004  vibration  pass,\n",
      "no5    5   DG0000000005     heatup   pass\n",
      "no6    6   DG0000000006     burnin  fail,\n",
      "no7    7   DG0000000007     hipot2   fail\n",
      "no8    8   DG0000000008       ats2   fail\n",
      "no9    9   DG0000000009     flash2   pass\n",
      "no10  10  DG00000000010       ats3   fail\n"
     ]
    }
   ],
   "execution_count": 18
  },
  {
   "metadata": {
    "ExecuteTime": {
     "end_time": "2025-06-07T06:20:19.295773Z",
     "start_time": "2025-06-07T06:20:19.286125Z"
    }
   },
   "cell_type": "code",
   "source": "print(df2.loc[\"no1\"])",
   "id": "f1e95bf4cedb2a88",
   "outputs": [
    {
     "name": "stdout",
     "output_type": "stream",
     "text": [
      "id                    1\n",
      "sn         DG0000000001\n",
      "station         vflash1\n",
      "result             pass\n",
      "Name: no1, dtype: object\n"
     ]
    }
   ],
   "execution_count": 19
  },
  {
   "metadata": {
    "ExecuteTime": {
     "end_time": "2025-06-07T06:20:19.375792Z",
     "start_time": "2025-06-07T06:20:19.359467Z"
    }
   },
   "cell_type": "code",
   "source": "#Load csv",
   "id": "bc764314cce8f0e0",
   "outputs": [],
   "execution_count": null
  }
 ],
 "metadata": {
  "kernelspec": {
   "display_name": "Python 3",
   "language": "python",
   "name": "python3"
  },
  "language_info": {
   "codemirror_mode": {
    "name": "ipython",
    "version": 2
   },
   "file_extension": ".py",
   "mimetype": "text/x-python",
   "name": "python",
   "nbconvert_exporter": "python",
   "pygments_lexer": "ipython2",
   "version": "2.7.6"
  }
 },
 "nbformat": 4,
 "nbformat_minor": 5
}

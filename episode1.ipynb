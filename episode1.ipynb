{
 "cells": [
  {
   "cell_type": "code",
   "id": "initial_id",
   "metadata": {
    "collapsed": true
   },
   "source": [
    "#Create a data and Set it to DataFrame (pd.DataFrame())\n",
    "import pandas as pd\n",
    "\n",
    "mydataset = {\n",
    "    'id': [1, 2, 3, 4, 5, 6, 7, 8, 9, 10],\n",
    "    'sn': [\"DG0000000001\", \"DG0000000002\", \"DG0000000003\", \"DG0000000004\", \"DG0000000005\", \"DG0000000006\",\"DG0000000007\",\n",
    "           \"DG0000000008\", \"DG0000000009\", \"DG00000000010\"],\n",
    "    'station': [\"vflash1\", \"hipot1\", \"ats1\", \"vibration\", \"heatup\", \"burnin\", \"hipot2\", \"ats2\", \"flash2\", \"ats3\"],\n",
    "    'result': [\"pass\", \"fail\", \"pass\", \"pass,\", \"pass\", \"fail,\", \"fail\", \"fail\", \"pass\", \"fail\"]\n",
    "}\n",
    "df = pd.DataFrame(mydataset)\n",
    "print(df)\n"
   ],
   "outputs": [],
   "execution_count": null
  },
  {
   "metadata": {
    "ExecuteTime": {
     "end_time": "2025-06-07T07:19:31.734950Z",
     "start_time": "2025-06-07T07:19:31.700937Z"
    }
   },
   "cell_type": "code",
   "source": [
    "#Show row column\n",
    "print(df.loc[0])"
   ],
   "id": "e3502f743eafc1dd",
   "outputs": [
    {
     "name": "stdout",
     "output_type": "stream",
     "text": [
      "id                    1\n",
      "sn         DG0000000001\n",
      "station         vflash1\n",
      "result             pass\n",
      "Name: 0, dtype: object\n"
     ]
    }
   ],
   "execution_count": 20
  },
  {
   "metadata": {},
   "cell_type": "code",
   "source": [
    "#Rename Index\n",
    "df2 = pd.DataFrame(mydataset, index=[\"no1\",\"no2\",\"no3\",\"no4\",\"no5\",\"no6\",\"no7\",\"no8\",\"no9\",\"no10\"])\n",
    "print(df2)"
   ],
   "id": "d109ee8d8264b5d6",
   "outputs": [],
   "execution_count": null
  }
 ],
 "metadata": {
  "kernelspec": {
   "display_name": "Python 3",
   "language": "python",
   "name": "python3"
  },
  "language_info": {
   "codemirror_mode": {
    "name": "ipython",
    "version": 2
   },
   "file_extension": ".py",
   "mimetype": "text/x-python",
   "name": "python",
   "nbconvert_exporter": "python",
   "pygments_lexer": "ipython2",
   "version": "2.7.6"
  }
 },
 "nbformat": 4,
 "nbformat_minor": 5
}
